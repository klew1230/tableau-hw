{
 "cells": [
  {
   "cell_type": "code",
   "execution_count": 2,
   "id": "2dd5ad50",
   "metadata": {},
   "outputs": [],
   "source": [
    "import pandas as pd\n",
    "import numpy as np"
   ]
  },
  {
   "cell_type": "code",
   "execution_count": 3,
   "id": "783579b4",
   "metadata": {},
   "outputs": [],
   "source": [
    "_Spring202103 = \"Resources/2021_Spring/202103-citibike-tripdata.csv\"\n",
    "_Spring202104 = \"Resources/2021_Spring/202104-citibike-tripdata.csv\"\n",
    "_Spring202105 = \"Resources/2021_Spring/202105-citibike-tripdata.csv\""
   ]
  },
  {
   "cell_type": "code",
   "execution_count": 4,
   "id": "d1c596e4",
   "metadata": {},
   "outputs": [
    {
     "name": "stderr",
     "output_type": "stream",
     "text": [
      "C:\\Users\\klew1\\anaconda3\\lib\\site-packages\\IPython\\core\\interactiveshell.py:3444: DtypeWarning: Columns (5,7) have mixed types.Specify dtype option on import or set low_memory=False.\n",
      "  exec(code_obj, self.user_global_ns, self.user_ns)\n"
     ]
    }
   ],
   "source": [
    "Spring202103_df = pd.read_csv(_Spring202103)\n",
    "Spring202104_df = pd.read_csv(_Spring202104)\n",
    "Spring202105_df = pd.read_csv(_Spring202105)"
   ]
  },
  {
   "cell_type": "code",
   "execution_count": 5,
   "id": "a8f76b8b",
   "metadata": {},
   "outputs": [],
   "source": [
    "Spring202103_df.insert(loc=0, column='date', value=202103)"
   ]
  },
  {
   "cell_type": "code",
   "execution_count": 6,
   "id": "5700cede",
   "metadata": {},
   "outputs": [],
   "source": [
    "Spring202104_df.insert(loc=0, column='date', value=202104)"
   ]
  },
  {
   "cell_type": "code",
   "execution_count": 7,
   "id": "33a57055",
   "metadata": {},
   "outputs": [],
   "source": [
    "Spring202105_df.insert(loc=0, column='date', value=202105)"
   ]
  },
  {
   "cell_type": "code",
   "execution_count": 8,
   "id": "67c0dafa",
   "metadata": {},
   "outputs": [
    {
     "data": {
      "text/html": [
       "<div>\n",
       "<style scoped>\n",
       "    .dataframe tbody tr th:only-of-type {\n",
       "        vertical-align: middle;\n",
       "    }\n",
       "\n",
       "    .dataframe tbody tr th {\n",
       "        vertical-align: top;\n",
       "    }\n",
       "\n",
       "    .dataframe thead th {\n",
       "        text-align: right;\n",
       "    }\n",
       "</style>\n",
       "<table border=\"1\" class=\"dataframe\">\n",
       "  <thead>\n",
       "    <tr style=\"text-align: right;\">\n",
       "      <th></th>\n",
       "      <th>date</th>\n",
       "      <th>rideable_type</th>\n",
       "      <th>start_station_name</th>\n",
       "      <th>end_station_name</th>\n",
       "      <th>start_lat</th>\n",
       "      <th>start_lng</th>\n",
       "      <th>end_lat</th>\n",
       "      <th>end_lng</th>\n",
       "      <th>member_casual</th>\n",
       "    </tr>\n",
       "  </thead>\n",
       "  <tbody>\n",
       "    <tr>\n",
       "      <th>0</th>\n",
       "      <td>202103</td>\n",
       "      <td>docked_bike</td>\n",
       "      <td>Willoughby Ave &amp; Wyckoff Ave</td>\n",
       "      <td>Cedar St &amp; Myrtle Ave</td>\n",
       "      <td>40.705614</td>\n",
       "      <td>-73.921530</td>\n",
       "      <td>40.697842</td>\n",
       "      <td>-73.926241</td>\n",
       "      <td>member</td>\n",
       "    </tr>\n",
       "    <tr>\n",
       "      <th>1</th>\n",
       "      <td>202103</td>\n",
       "      <td>docked_bike</td>\n",
       "      <td>Franklin Ave &amp; Myrtle Ave</td>\n",
       "      <td>Jackson St &amp; Leonard St</td>\n",
       "      <td>40.694546</td>\n",
       "      <td>-73.958013</td>\n",
       "      <td>40.716380</td>\n",
       "      <td>-73.948213</td>\n",
       "      <td>member</td>\n",
       "    </tr>\n",
       "    <tr>\n",
       "      <th>2</th>\n",
       "      <td>202103</td>\n",
       "      <td>docked_bike</td>\n",
       "      <td>Adam Clayton Powell Blvd &amp; W 141 St</td>\n",
       "      <td>Goble Pl &amp; Macombs Rd</td>\n",
       "      <td>40.819241</td>\n",
       "      <td>-73.941057</td>\n",
       "      <td>40.844075</td>\n",
       "      <td>-73.917256</td>\n",
       "      <td>member</td>\n",
       "    </tr>\n",
       "    <tr>\n",
       "      <th>3</th>\n",
       "      <td>202103</td>\n",
       "      <td>docked_bike</td>\n",
       "      <td>Bayard St &amp; Baxter St</td>\n",
       "      <td>Hudson St &amp; Reade St</td>\n",
       "      <td>40.716021</td>\n",
       "      <td>-73.999743</td>\n",
       "      <td>40.716250</td>\n",
       "      <td>-74.009106</td>\n",
       "      <td>member</td>\n",
       "    </tr>\n",
       "    <tr>\n",
       "      <th>4</th>\n",
       "      <td>202103</td>\n",
       "      <td>docked_bike</td>\n",
       "      <td>Bayard St &amp; Baxter St</td>\n",
       "      <td>Hudson St &amp; Reade St</td>\n",
       "      <td>40.716021</td>\n",
       "      <td>-73.999743</td>\n",
       "      <td>40.716250</td>\n",
       "      <td>-74.009106</td>\n",
       "      <td>member</td>\n",
       "    </tr>\n",
       "  </tbody>\n",
       "</table>\n",
       "</div>"
      ],
      "text/plain": [
       "     date rideable_type                   start_station_name  \\\n",
       "0  202103   docked_bike         Willoughby Ave & Wyckoff Ave   \n",
       "1  202103   docked_bike            Franklin Ave & Myrtle Ave   \n",
       "2  202103   docked_bike  Adam Clayton Powell Blvd & W 141 St   \n",
       "3  202103   docked_bike                Bayard St & Baxter St   \n",
       "4  202103   docked_bike                Bayard St & Baxter St   \n",
       "\n",
       "          end_station_name  start_lat  start_lng    end_lat    end_lng  \\\n",
       "0    Cedar St & Myrtle Ave  40.705614 -73.921530  40.697842 -73.926241   \n",
       "1  Jackson St & Leonard St  40.694546 -73.958013  40.716380 -73.948213   \n",
       "2    Goble Pl & Macombs Rd  40.819241 -73.941057  40.844075 -73.917256   \n",
       "3     Hudson St & Reade St  40.716021 -73.999743  40.716250 -74.009106   \n",
       "4     Hudson St & Reade St  40.716021 -73.999743  40.716250 -74.009106   \n",
       "\n",
       "  member_casual  \n",
       "0        member  \n",
       "1        member  \n",
       "2        member  \n",
       "3        member  \n",
       "4        member  "
      ]
     },
     "execution_count": 8,
     "metadata": {},
     "output_type": "execute_result"
    }
   ],
   "source": [
    "# append csvs\n",
    "\n",
    "merge_Spring2021 = pd.concat([Spring202103_df, Spring202104_df, Spring202105_df])\n",
    "Spring2021 = merge_Spring2021.drop(columns=[\"ride_id\", \"started_at\", \"ended_at\", \"start_station_id\", \"end_station_id\"], axis=1)\n",
    "Spring2021.head()"
   ]
  },
  {
   "cell_type": "code",
   "execution_count": 9,
   "id": "3f2726ef",
   "metadata": {},
   "outputs": [],
   "source": [
    "Spring2021.dropna(inplace = True )"
   ]
  },
  {
   "cell_type": "code",
   "execution_count": 10,
   "id": "4d43f262",
   "metadata": {},
   "outputs": [
    {
     "data": {
      "text/plain": [
       "date                    int64\n",
       "rideable_type          object\n",
       "start_station_name     object\n",
       "end_station_name       object\n",
       "start_lat             float64\n",
       "start_lng             float64\n",
       "end_lat               float64\n",
       "end_lng               float64\n",
       "member_casual          object\n",
       "dtype: object"
      ]
     },
     "execution_count": 10,
     "metadata": {},
     "output_type": "execute_result"
    }
   ],
   "source": [
    "Spring2021.dtypes"
   ]
  },
  {
   "cell_type": "code",
   "execution_count": 11,
   "id": "2c308404",
   "metadata": {},
   "outputs": [
    {
     "data": {
      "text/html": [
       "<div>\n",
       "<style scoped>\n",
       "    .dataframe tbody tr th:only-of-type {\n",
       "        vertical-align: middle;\n",
       "    }\n",
       "\n",
       "    .dataframe tbody tr th {\n",
       "        vertical-align: top;\n",
       "    }\n",
       "\n",
       "    .dataframe thead th {\n",
       "        text-align: right;\n",
       "    }\n",
       "</style>\n",
       "<table border=\"1\" class=\"dataframe\">\n",
       "  <thead>\n",
       "    <tr style=\"text-align: right;\">\n",
       "      <th></th>\n",
       "      <th>date</th>\n",
       "      <th>rideable_type</th>\n",
       "      <th>start_station_name</th>\n",
       "      <th>end_station_name</th>\n",
       "      <th>start_lat</th>\n",
       "      <th>start_lng</th>\n",
       "      <th>end_lat</th>\n",
       "      <th>end_lng</th>\n",
       "      <th>member_casual</th>\n",
       "    </tr>\n",
       "  </thead>\n",
       "  <tbody>\n",
       "    <tr>\n",
       "      <th>0</th>\n",
       "      <td>202103</td>\n",
       "      <td>docked_bike</td>\n",
       "      <td>Willoughby Ave &amp; Wyckoff Ave</td>\n",
       "      <td>Cedar St &amp; Myrtle Ave</td>\n",
       "      <td>40.705614</td>\n",
       "      <td>-73.921530</td>\n",
       "      <td>40.697842</td>\n",
       "      <td>-73.926241</td>\n",
       "      <td>member</td>\n",
       "    </tr>\n",
       "    <tr>\n",
       "      <th>1</th>\n",
       "      <td>202103</td>\n",
       "      <td>docked_bike</td>\n",
       "      <td>Franklin Ave &amp; Myrtle Ave</td>\n",
       "      <td>Jackson St &amp; Leonard St</td>\n",
       "      <td>40.694546</td>\n",
       "      <td>-73.958013</td>\n",
       "      <td>40.716380</td>\n",
       "      <td>-73.948213</td>\n",
       "      <td>member</td>\n",
       "    </tr>\n",
       "    <tr>\n",
       "      <th>2</th>\n",
       "      <td>202103</td>\n",
       "      <td>docked_bike</td>\n",
       "      <td>Adam Clayton Powell Blvd &amp; W 141 St</td>\n",
       "      <td>Goble Pl &amp; Macombs Rd</td>\n",
       "      <td>40.819241</td>\n",
       "      <td>-73.941057</td>\n",
       "      <td>40.844075</td>\n",
       "      <td>-73.917256</td>\n",
       "      <td>member</td>\n",
       "    </tr>\n",
       "    <tr>\n",
       "      <th>3</th>\n",
       "      <td>202103</td>\n",
       "      <td>docked_bike</td>\n",
       "      <td>Bayard St &amp; Baxter St</td>\n",
       "      <td>Hudson St &amp; Reade St</td>\n",
       "      <td>40.716021</td>\n",
       "      <td>-73.999743</td>\n",
       "      <td>40.716250</td>\n",
       "      <td>-74.009106</td>\n",
       "      <td>member</td>\n",
       "    </tr>\n",
       "    <tr>\n",
       "      <th>4</th>\n",
       "      <td>202103</td>\n",
       "      <td>docked_bike</td>\n",
       "      <td>Bayard St &amp; Baxter St</td>\n",
       "      <td>Hudson St &amp; Reade St</td>\n",
       "      <td>40.716021</td>\n",
       "      <td>-73.999743</td>\n",
       "      <td>40.716250</td>\n",
       "      <td>-74.009106</td>\n",
       "      <td>member</td>\n",
       "    </tr>\n",
       "  </tbody>\n",
       "</table>\n",
       "</div>"
      ],
      "text/plain": [
       "     date rideable_type                   start_station_name  \\\n",
       "0  202103   docked_bike         Willoughby Ave & Wyckoff Ave   \n",
       "1  202103   docked_bike            Franklin Ave & Myrtle Ave   \n",
       "2  202103   docked_bike  Adam Clayton Powell Blvd & W 141 St   \n",
       "3  202103   docked_bike                Bayard St & Baxter St   \n",
       "4  202103   docked_bike                Bayard St & Baxter St   \n",
       "\n",
       "          end_station_name  start_lat  start_lng    end_lat    end_lng  \\\n",
       "0    Cedar St & Myrtle Ave  40.705614 -73.921530  40.697842 -73.926241   \n",
       "1  Jackson St & Leonard St  40.694546 -73.958013  40.716380 -73.948213   \n",
       "2    Goble Pl & Macombs Rd  40.819241 -73.941057  40.844075 -73.917256   \n",
       "3     Hudson St & Reade St  40.716021 -73.999743  40.716250 -74.009106   \n",
       "4     Hudson St & Reade St  40.716021 -73.999743  40.716250 -74.009106   \n",
       "\n",
       "  member_casual  \n",
       "0        member  \n",
       "1        member  \n",
       "2        member  \n",
       "3        member  \n",
       "4        member  "
      ]
     },
     "execution_count": 11,
     "metadata": {},
     "output_type": "execute_result"
    }
   ],
   "source": [
    "Spring2021.head()"
   ]
  },
  {
   "cell_type": "code",
   "execution_count": 12,
   "id": "4a309de0",
   "metadata": {},
   "outputs": [],
   "source": [
    "Spring2021.to_csv('Resources/Spring2021.csv', index=False)"
   ]
  },
  {
   "cell_type": "code",
   "execution_count": null,
   "id": "1e7d4d14",
   "metadata": {},
   "outputs": [],
   "source": []
  }
 ],
 "metadata": {
  "kernelspec": {
   "display_name": "Python 3 (ipykernel)",
   "language": "python",
   "name": "python3"
  },
  "language_info": {
   "codemirror_mode": {
    "name": "ipython",
    "version": 3
   },
   "file_extension": ".py",
   "mimetype": "text/x-python",
   "name": "python",
   "nbconvert_exporter": "python",
   "pygments_lexer": "ipython3",
   "version": "3.9.7"
  },
  "vscode": {
   "interpreter": {
    "hash": "8a5002a70137fce7c3920d3bd433757eb387d8b626be12ecf4b6395f11d63dc6"
   }
  }
 },
 "nbformat": 4,
 "nbformat_minor": 5
}
