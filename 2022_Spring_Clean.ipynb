{
 "cells": [
  {
   "cell_type": "code",
   "execution_count": 1,
   "id": "2dd5ad50",
   "metadata": {},
   "outputs": [],
   "source": [
    "import pandas as pd\n",
    "import numpy as np"
   ]
  },
  {
   "cell_type": "code",
   "execution_count": 2,
   "id": "783579b4",
   "metadata": {},
   "outputs": [],
   "source": [
    "_Spring202203 = \"Resources/2022_Spring/202203-citibike-tripdata.csv\"\n",
    "_Spring202204 = \"Resources/2022_Spring/202204-citibike-tripdata.csv\"\n",
    "_Spring202205 = \"Resources/2022_Spring/202205-citibike-tripdata.csv\""
   ]
  },
  {
   "cell_type": "code",
   "execution_count": 3,
   "id": "d1c596e4",
   "metadata": {},
   "outputs": [
    {
     "name": "stderr",
     "output_type": "stream",
     "text": [
      "C:\\Users\\klew1\\anaconda3\\lib\\site-packages\\IPython\\core\\interactiveshell.py:3444: DtypeWarning: Columns (5,7) have mixed types.Specify dtype option on import or set low_memory=False.\n",
      "  exec(code_obj, self.user_global_ns, self.user_ns)\n"
     ]
    }
   ],
   "source": [
    "Spring202203_df = pd.read_csv(_Spring202203)\n",
    "Spring202204_df = pd.read_csv(_Spring202204)\n",
    "Spring202205_df = pd.read_csv(_Spring202205)"
   ]
  },
  {
   "cell_type": "code",
   "execution_count": 4,
   "id": "fc3359a4",
   "metadata": {},
   "outputs": [],
   "source": [
    "Spring202203_df.insert(loc=0, column='date', value=202203)"
   ]
  },
  {
   "cell_type": "code",
   "execution_count": 5,
   "id": "6a12eb6b",
   "metadata": {},
   "outputs": [],
   "source": [
    "Spring202204_df.insert(loc=0, column='date', value=202204)"
   ]
  },
  {
   "cell_type": "code",
   "execution_count": 6,
   "id": "0fbbb345",
   "metadata": {},
   "outputs": [],
   "source": [
    "Spring202205_df.insert(loc=0, column='date', value=202205)"
   ]
  },
  {
   "cell_type": "code",
   "execution_count": 7,
   "id": "67c0dafa",
   "metadata": {},
   "outputs": [
    {
     "data": {
      "text/html": [
       "<div>\n",
       "<style scoped>\n",
       "    .dataframe tbody tr th:only-of-type {\n",
       "        vertical-align: middle;\n",
       "    }\n",
       "\n",
       "    .dataframe tbody tr th {\n",
       "        vertical-align: top;\n",
       "    }\n",
       "\n",
       "    .dataframe thead th {\n",
       "        text-align: right;\n",
       "    }\n",
       "</style>\n",
       "<table border=\"1\" class=\"dataframe\">\n",
       "  <thead>\n",
       "    <tr style=\"text-align: right;\">\n",
       "      <th></th>\n",
       "      <th>date</th>\n",
       "      <th>rideable_type</th>\n",
       "      <th>start_station_name</th>\n",
       "      <th>end_station_name</th>\n",
       "      <th>start_lat</th>\n",
       "      <th>start_lng</th>\n",
       "      <th>end_lat</th>\n",
       "      <th>end_lng</th>\n",
       "      <th>member_casual</th>\n",
       "    </tr>\n",
       "  </thead>\n",
       "  <tbody>\n",
       "    <tr>\n",
       "      <th>0</th>\n",
       "      <td>202203</td>\n",
       "      <td>electric_bike</td>\n",
       "      <td>Washington St &amp; Barrow St</td>\n",
       "      <td>University Pl &amp; E 14 St</td>\n",
       "      <td>40.731911</td>\n",
       "      <td>-74.008769</td>\n",
       "      <td>40.734814</td>\n",
       "      <td>-73.992085</td>\n",
       "      <td>member</td>\n",
       "    </tr>\n",
       "    <tr>\n",
       "      <th>1</th>\n",
       "      <td>202203</td>\n",
       "      <td>classic_bike</td>\n",
       "      <td>Washington St &amp; Barrow St</td>\n",
       "      <td>W 11 St &amp; 6 Ave</td>\n",
       "      <td>40.731911</td>\n",
       "      <td>-74.008769</td>\n",
       "      <td>40.735324</td>\n",
       "      <td>-73.998004</td>\n",
       "      <td>member</td>\n",
       "    </tr>\n",
       "    <tr>\n",
       "      <th>2</th>\n",
       "      <td>202203</td>\n",
       "      <td>classic_bike</td>\n",
       "      <td>1 Ave &amp; E 110 St</td>\n",
       "      <td>E 110 St &amp; Madison Ave</td>\n",
       "      <td>40.792327</td>\n",
       "      <td>-73.938300</td>\n",
       "      <td>40.796154</td>\n",
       "      <td>-73.947821</td>\n",
       "      <td>member</td>\n",
       "    </tr>\n",
       "    <tr>\n",
       "      <th>3</th>\n",
       "      <td>202203</td>\n",
       "      <td>classic_bike</td>\n",
       "      <td>Crescent St &amp; Broadway</td>\n",
       "      <td>31 Rd &amp; 21 St</td>\n",
       "      <td>40.763359</td>\n",
       "      <td>-73.928647</td>\n",
       "      <td>40.766824</td>\n",
       "      <td>-73.930486</td>\n",
       "      <td>member</td>\n",
       "    </tr>\n",
       "    <tr>\n",
       "      <th>4</th>\n",
       "      <td>202203</td>\n",
       "      <td>classic_bike</td>\n",
       "      <td>Crescent St &amp; Broadway</td>\n",
       "      <td>31 Rd &amp; 21 St</td>\n",
       "      <td>40.763359</td>\n",
       "      <td>-73.928647</td>\n",
       "      <td>40.766824</td>\n",
       "      <td>-73.930486</td>\n",
       "      <td>member</td>\n",
       "    </tr>\n",
       "  </tbody>\n",
       "</table>\n",
       "</div>"
      ],
      "text/plain": [
       "     date  rideable_type         start_station_name         end_station_name  \\\n",
       "0  202203  electric_bike  Washington St & Barrow St  University Pl & E 14 St   \n",
       "1  202203   classic_bike  Washington St & Barrow St          W 11 St & 6 Ave   \n",
       "2  202203   classic_bike           1 Ave & E 110 St   E 110 St & Madison Ave   \n",
       "3  202203   classic_bike     Crescent St & Broadway            31 Rd & 21 St   \n",
       "4  202203   classic_bike     Crescent St & Broadway            31 Rd & 21 St   \n",
       "\n",
       "   start_lat  start_lng    end_lat    end_lng member_casual  \n",
       "0  40.731911 -74.008769  40.734814 -73.992085        member  \n",
       "1  40.731911 -74.008769  40.735324 -73.998004        member  \n",
       "2  40.792327 -73.938300  40.796154 -73.947821        member  \n",
       "3  40.763359 -73.928647  40.766824 -73.930486        member  \n",
       "4  40.763359 -73.928647  40.766824 -73.930486        member  "
      ]
     },
     "execution_count": 7,
     "metadata": {},
     "output_type": "execute_result"
    }
   ],
   "source": [
    "# append csvs\n",
    "\n",
    "merge_Spring2022 = pd.concat([Spring202203_df, Spring202204_df, Spring202205_df])\n",
    "Spring2022 = merge_Spring2022.drop(columns=[\"ride_id\", \"started_at\", \"ended_at\", \"start_station_id\", \"end_station_id\"], axis=1)\n",
    "Spring2022.head()"
   ]
  },
  {
   "cell_type": "code",
   "execution_count": 8,
   "id": "f189098c",
   "metadata": {},
   "outputs": [],
   "source": [
    "Spring2022.dropna(inplace = True )"
   ]
  },
  {
   "cell_type": "code",
   "execution_count": 9,
   "id": "f546b115",
   "metadata": {},
   "outputs": [
    {
     "data": {
      "text/plain": [
       "date                    int64\n",
       "rideable_type          object\n",
       "start_station_name     object\n",
       "end_station_name       object\n",
       "start_lat             float64\n",
       "start_lng             float64\n",
       "end_lat               float64\n",
       "end_lng               float64\n",
       "member_casual          object\n",
       "dtype: object"
      ]
     },
     "execution_count": 9,
     "metadata": {},
     "output_type": "execute_result"
    }
   ],
   "source": [
    "Spring2022.dtypes"
   ]
  },
  {
   "cell_type": "code",
   "execution_count": 10,
   "id": "111df4ad",
   "metadata": {},
   "outputs": [
    {
     "data": {
      "text/html": [
       "<div>\n",
       "<style scoped>\n",
       "    .dataframe tbody tr th:only-of-type {\n",
       "        vertical-align: middle;\n",
       "    }\n",
       "\n",
       "    .dataframe tbody tr th {\n",
       "        vertical-align: top;\n",
       "    }\n",
       "\n",
       "    .dataframe thead th {\n",
       "        text-align: right;\n",
       "    }\n",
       "</style>\n",
       "<table border=\"1\" class=\"dataframe\">\n",
       "  <thead>\n",
       "    <tr style=\"text-align: right;\">\n",
       "      <th></th>\n",
       "      <th>date</th>\n",
       "      <th>rideable_type</th>\n",
       "      <th>start_station_name</th>\n",
       "      <th>end_station_name</th>\n",
       "      <th>start_lat</th>\n",
       "      <th>start_lng</th>\n",
       "      <th>end_lat</th>\n",
       "      <th>end_lng</th>\n",
       "      <th>member_casual</th>\n",
       "    </tr>\n",
       "  </thead>\n",
       "  <tbody>\n",
       "    <tr>\n",
       "      <th>0</th>\n",
       "      <td>202203</td>\n",
       "      <td>electric_bike</td>\n",
       "      <td>Washington St &amp; Barrow St</td>\n",
       "      <td>University Pl &amp; E 14 St</td>\n",
       "      <td>40.731911</td>\n",
       "      <td>-74.008769</td>\n",
       "      <td>40.734814</td>\n",
       "      <td>-73.992085</td>\n",
       "      <td>member</td>\n",
       "    </tr>\n",
       "    <tr>\n",
       "      <th>1</th>\n",
       "      <td>202203</td>\n",
       "      <td>classic_bike</td>\n",
       "      <td>Washington St &amp; Barrow St</td>\n",
       "      <td>W 11 St &amp; 6 Ave</td>\n",
       "      <td>40.731911</td>\n",
       "      <td>-74.008769</td>\n",
       "      <td>40.735324</td>\n",
       "      <td>-73.998004</td>\n",
       "      <td>member</td>\n",
       "    </tr>\n",
       "    <tr>\n",
       "      <th>2</th>\n",
       "      <td>202203</td>\n",
       "      <td>classic_bike</td>\n",
       "      <td>1 Ave &amp; E 110 St</td>\n",
       "      <td>E 110 St &amp; Madison Ave</td>\n",
       "      <td>40.792327</td>\n",
       "      <td>-73.938300</td>\n",
       "      <td>40.796154</td>\n",
       "      <td>-73.947821</td>\n",
       "      <td>member</td>\n",
       "    </tr>\n",
       "    <tr>\n",
       "      <th>3</th>\n",
       "      <td>202203</td>\n",
       "      <td>classic_bike</td>\n",
       "      <td>Crescent St &amp; Broadway</td>\n",
       "      <td>31 Rd &amp; 21 St</td>\n",
       "      <td>40.763359</td>\n",
       "      <td>-73.928647</td>\n",
       "      <td>40.766824</td>\n",
       "      <td>-73.930486</td>\n",
       "      <td>member</td>\n",
       "    </tr>\n",
       "    <tr>\n",
       "      <th>4</th>\n",
       "      <td>202203</td>\n",
       "      <td>classic_bike</td>\n",
       "      <td>Crescent St &amp; Broadway</td>\n",
       "      <td>31 Rd &amp; 21 St</td>\n",
       "      <td>40.763359</td>\n",
       "      <td>-73.928647</td>\n",
       "      <td>40.766824</td>\n",
       "      <td>-73.930486</td>\n",
       "      <td>member</td>\n",
       "    </tr>\n",
       "  </tbody>\n",
       "</table>\n",
       "</div>"
      ],
      "text/plain": [
       "     date  rideable_type         start_station_name         end_station_name  \\\n",
       "0  202203  electric_bike  Washington St & Barrow St  University Pl & E 14 St   \n",
       "1  202203   classic_bike  Washington St & Barrow St          W 11 St & 6 Ave   \n",
       "2  202203   classic_bike           1 Ave & E 110 St   E 110 St & Madison Ave   \n",
       "3  202203   classic_bike     Crescent St & Broadway            31 Rd & 21 St   \n",
       "4  202203   classic_bike     Crescent St & Broadway            31 Rd & 21 St   \n",
       "\n",
       "   start_lat  start_lng    end_lat    end_lng member_casual  \n",
       "0  40.731911 -74.008769  40.734814 -73.992085        member  \n",
       "1  40.731911 -74.008769  40.735324 -73.998004        member  \n",
       "2  40.792327 -73.938300  40.796154 -73.947821        member  \n",
       "3  40.763359 -73.928647  40.766824 -73.930486        member  \n",
       "4  40.763359 -73.928647  40.766824 -73.930486        member  "
      ]
     },
     "execution_count": 10,
     "metadata": {},
     "output_type": "execute_result"
    }
   ],
   "source": [
    "Spring2022.head()"
   ]
  },
  {
   "cell_type": "code",
   "execution_count": 11,
   "id": "4a309de0",
   "metadata": {},
   "outputs": [],
   "source": [
    "Spring2022.to_csv('Resources/Spring2022.csv', index=False)"
   ]
  },
  {
   "cell_type": "code",
   "execution_count": null,
   "id": "1e7d4d14",
   "metadata": {},
   "outputs": [],
   "source": []
  }
 ],
 "metadata": {
  "kernelspec": {
   "display_name": "Python 3 (ipykernel)",
   "language": "python",
   "name": "python3"
  },
  "language_info": {
   "codemirror_mode": {
    "name": "ipython",
    "version": 3
   },
   "file_extension": ".py",
   "mimetype": "text/x-python",
   "name": "python",
   "nbconvert_exporter": "python",
   "pygments_lexer": "ipython3",
   "version": "3.9.7"
  }
 },
 "nbformat": 4,
 "nbformat_minor": 5
}
