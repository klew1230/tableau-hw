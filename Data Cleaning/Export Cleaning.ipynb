{
 "cells": [
  {
   "cell_type": "code",
   "execution_count": 1,
   "id": "38e4d482",
   "metadata": {},
   "outputs": [],
   "source": [
    "import pandas as pd\n",
    "import numpy as np"
   ]
  },
  {
   "cell_type": "code",
   "execution_count": 2,
   "id": "38a33638",
   "metadata": {},
   "outputs": [],
   "source": [
    "NY_Jan2022 = \"../Resources/Exports/202201-citibike-tripdata.csv\"\n",
    "NY_Jun2022 = \"../Resources/Exports/202206-citbike-tripdata.csv\"\n",
    "NJ_Jan2022 = \"../Resources/Exports/JC-202201-citibike-tripdata.csv\"\n",
    "NJ_Jun2022 = \"../Resources/Exports/JC-202206-citibike-tripdata.csv\""
   ]
  },
  {
   "cell_type": "code",
   "execution_count": 3,
   "id": "7679653c",
   "metadata": {},
   "outputs": [
    {
     "name": "stderr",
     "output_type": "stream",
     "text": [
      "C:\\Users\\klew1\\anaconda3\\lib\\site-packages\\IPython\\core\\interactiveshell.py:3444: DtypeWarning: Columns (5,7) have mixed types.Specify dtype option on import or set low_memory=False.\n",
      "  exec(code_obj, self.user_global_ns, self.user_ns)\n"
     ]
    }
   ],
   "source": [
    "NY_Jan2022_df = pd.read_csv(NY_Jan2022)\n",
    "NY_Jun2022_df = pd.read_csv(NY_Jun2022)\n",
    "NJ_Jan2022_df = pd.read_csv(NJ_Jan2022)\n",
    "NJ_Jun2022_df = pd.read_csv(NJ_Jun2022)"
   ]
  },
  {
   "cell_type": "code",
   "execution_count": 4,
   "id": "d501f39d",
   "metadata": {},
   "outputs": [],
   "source": [
    "NY_Jan2022_df.dropna(how='any', inplace=True)"
   ]
  },
  {
   "cell_type": "code",
   "execution_count": 5,
   "id": "f56a9ec0",
   "metadata": {},
   "outputs": [],
   "source": [
    "NY_Jun2022_df.dropna(how='any', inplace=True)"
   ]
  },
  {
   "cell_type": "code",
   "execution_count": 6,
   "id": "4578a84c",
   "metadata": {},
   "outputs": [],
   "source": [
    "NJ_Jan2022_df.dropna(how='any', inplace=True)"
   ]
  },
  {
   "cell_type": "code",
   "execution_count": 7,
   "id": "c4813975",
   "metadata": {},
   "outputs": [],
   "source": [
    "NJ_Jun2022_df.dropna(how='any', inplace=True)"
   ]
  },
  {
   "cell_type": "code",
   "execution_count": null,
   "id": "94d782be",
   "metadata": {},
   "outputs": [],
   "source": []
  },
  {
   "cell_type": "code",
   "execution_count": 8,
   "id": "84d75bd1",
   "metadata": {},
   "outputs": [],
   "source": [
    "# drop columns\n",
    "NY_Jan2022_df = NY_Jan2022_df.drop(columns=[\"ride_id\", \"start_station_name\", \"end_station_name\"])"
   ]
  },
  {
   "cell_type": "code",
   "execution_count": 9,
   "id": "aaf67a2a",
   "metadata": {},
   "outputs": [],
   "source": [
    "# drop columns\n",
    "NY_Jun2022_df = NY_Jun2022_df.drop(columns=[\"ride_id\", \"start_station_name\", \"end_station_name\"])"
   ]
  },
  {
   "cell_type": "code",
   "execution_count": 10,
   "id": "74e1330f",
   "metadata": {},
   "outputs": [],
   "source": [
    "# drop columns\n",
    "NJ_Jan2022_df = NJ_Jan2022_df.drop(columns=[\"ride_id\", \"start_station_name\", \"end_station_name\"])"
   ]
  },
  {
   "cell_type": "code",
   "execution_count": 11,
   "id": "a0a73a6e",
   "metadata": {},
   "outputs": [],
   "source": [
    "# drop columns\n",
    "NJ_Jun2022_df = NJ_Jun2022_df.drop(columns=[\"ride_id\", \"start_station_name\", \"end_station_name\"])"
   ]
  },
  {
   "cell_type": "code",
   "execution_count": null,
   "id": "81d17414",
   "metadata": {},
   "outputs": [],
   "source": []
  },
  {
   "cell_type": "code",
   "execution_count": 12,
   "id": "dacf8f67",
   "metadata": {},
   "outputs": [],
   "source": [
    "# rename data fields\n",
    "NY_Jan2022_df['rideable_type'] = np.where(NY_Jan2022_df['rideable_type']==\"classic_bike\",1,(np.where(NY_Jan2022_df['rideable_type']==\"electric_bike\",2,3)))"
   ]
  },
  {
   "cell_type": "code",
   "execution_count": 13,
   "id": "5b4f4ad2",
   "metadata": {},
   "outputs": [],
   "source": [
    "# rename data fields\n",
    "NY_Jun2022_df['rideable_type'] = np.where(NY_Jun2022_df['rideable_type']==\"classic_bike\",1,(np.where(NY_Jun2022_df['rideable_type']==\"electric_bike\",2,3)))"
   ]
  },
  {
   "cell_type": "code",
   "execution_count": 14,
   "id": "5bb22cf3",
   "metadata": {},
   "outputs": [],
   "source": [
    "# rename data fields\n",
    "NJ_Jan2022_df['rideable_type'] = np.where(NJ_Jan2022_df['rideable_type']==\"classic_bike\",1,(np.where(NJ_Jan2022_df['rideable_type']==\"electric_bike\",2,3)))"
   ]
  },
  {
   "cell_type": "code",
   "execution_count": 15,
   "id": "3665c041",
   "metadata": {},
   "outputs": [],
   "source": [
    "# rename data fields\n",
    "NJ_Jun2022_df['rideable_type'] = np.where(NJ_Jun2022_df['rideable_type']==\"classic_bike\",1,(np.where(NJ_Jun2022_df['rideable_type']==\"electric_bike\",2,3)))"
   ]
  },
  {
   "cell_type": "code",
   "execution_count": null,
   "id": "ddbdc8f4",
   "metadata": {},
   "outputs": [],
   "source": []
  },
  {
   "cell_type": "code",
   "execution_count": 16,
   "id": "df5173e2",
   "metadata": {},
   "outputs": [],
   "source": [
    "# rename data fields\n",
    "NY_Jan2022_df['member_casual'] = np.where(NY_Jan2022_df['member_casual']==\"member\",1,2)"
   ]
  },
  {
   "cell_type": "code",
   "execution_count": 17,
   "id": "267d968a",
   "metadata": {},
   "outputs": [],
   "source": [
    "# rename data fields\n",
    "NY_Jun2022_df['member_casual'] = np.where(NY_Jun2022_df['member_casual']==\"member\",1,2)"
   ]
  },
  {
   "cell_type": "code",
   "execution_count": 18,
   "id": "386608c4",
   "metadata": {},
   "outputs": [],
   "source": [
    "# rename data fields\n",
    "NJ_Jan2022_df['member_casual'] = np.where(NJ_Jan2022_df['member_casual']==\"member\",1,2)"
   ]
  },
  {
   "cell_type": "code",
   "execution_count": 19,
   "id": "31e42cbe",
   "metadata": {},
   "outputs": [],
   "source": [
    "# rename data fields\n",
    "NJ_Jun2022_df['member_casual'] = np.where(NJ_Jun2022_df['member_casual']==\"member\",1,2)"
   ]
  },
  {
   "cell_type": "code",
   "execution_count": null,
   "id": "fc783f3a",
   "metadata": {},
   "outputs": [],
   "source": []
  },
  {
   "cell_type": "code",
   "execution_count": 20,
   "id": "c4000552",
   "metadata": {},
   "outputs": [
    {
     "data": {
      "text/plain": [
       "rideable_type         int32\n",
       "started_at           object\n",
       "ended_at             object\n",
       "start_station_id     object\n",
       "end_station_id       object\n",
       "start_lat           float64\n",
       "start_lng           float64\n",
       "end_lat             float64\n",
       "end_lng             float64\n",
       "member_casual         int32\n",
       "dtype: object"
      ]
     },
     "execution_count": 20,
     "metadata": {},
     "output_type": "execute_result"
    }
   ],
   "source": [
    "NY_Jan2022_df.dtypes"
   ]
  },
  {
   "cell_type": "code",
   "execution_count": 21,
   "id": "476a4854",
   "metadata": {},
   "outputs": [
    {
     "data": {
      "text/plain": [
       "rideable_type         int32\n",
       "started_at           object\n",
       "ended_at             object\n",
       "start_station_id     object\n",
       "end_station_id       object\n",
       "start_lat           float64\n",
       "start_lng           float64\n",
       "end_lat             float64\n",
       "end_lng             float64\n",
       "member_casual         int32\n",
       "dtype: object"
      ]
     },
     "execution_count": 21,
     "metadata": {},
     "output_type": "execute_result"
    }
   ],
   "source": [
    "NY_Jun2022_df.dtypes"
   ]
  },
  {
   "cell_type": "code",
   "execution_count": 22,
   "id": "ce3f1f78",
   "metadata": {},
   "outputs": [
    {
     "data": {
      "text/plain": [
       "rideable_type         int32\n",
       "started_at           object\n",
       "ended_at             object\n",
       "start_station_id     object\n",
       "end_station_id       object\n",
       "start_lat           float64\n",
       "start_lng           float64\n",
       "end_lat             float64\n",
       "end_lng             float64\n",
       "member_casual         int32\n",
       "dtype: object"
      ]
     },
     "execution_count": 22,
     "metadata": {},
     "output_type": "execute_result"
    }
   ],
   "source": [
    "NJ_Jan2022_df.dtypes"
   ]
  },
  {
   "cell_type": "code",
   "execution_count": 23,
   "id": "f34cdbc4",
   "metadata": {},
   "outputs": [
    {
     "data": {
      "text/plain": [
       "rideable_type         int32\n",
       "started_at           object\n",
       "ended_at             object\n",
       "start_station_id     object\n",
       "end_station_id       object\n",
       "start_lat           float64\n",
       "start_lng           float64\n",
       "end_lat             float64\n",
       "end_lng             float64\n",
       "member_casual         int32\n",
       "dtype: object"
      ]
     },
     "execution_count": 23,
     "metadata": {},
     "output_type": "execute_result"
    }
   ],
   "source": [
    "NJ_Jun2022_df.dtypes"
   ]
  },
  {
   "cell_type": "code",
   "execution_count": null,
   "id": "3e1b485c",
   "metadata": {},
   "outputs": [],
   "source": []
  },
  {
   "cell_type": "code",
   "execution_count": 24,
   "id": "892a4df9",
   "metadata": {},
   "outputs": [
    {
     "data": {
      "text/html": [
       "<div>\n",
       "<style scoped>\n",
       "    .dataframe tbody tr th:only-of-type {\n",
       "        vertical-align: middle;\n",
       "    }\n",
       "\n",
       "    .dataframe tbody tr th {\n",
       "        vertical-align: top;\n",
       "    }\n",
       "\n",
       "    .dataframe thead th {\n",
       "        text-align: right;\n",
       "    }\n",
       "</style>\n",
       "<table border=\"1\" class=\"dataframe\">\n",
       "  <thead>\n",
       "    <tr style=\"text-align: right;\">\n",
       "      <th></th>\n",
       "      <th>rideable_type</th>\n",
       "      <th>started_at</th>\n",
       "      <th>ended_at</th>\n",
       "      <th>start_station_id</th>\n",
       "      <th>end_station_id</th>\n",
       "      <th>start_lat</th>\n",
       "      <th>start_lng</th>\n",
       "      <th>end_lat</th>\n",
       "      <th>end_lng</th>\n",
       "      <th>member_casual</th>\n",
       "    </tr>\n",
       "  </thead>\n",
       "  <tbody>\n",
       "    <tr>\n",
       "      <th>0</th>\n",
       "      <td>1</td>\n",
       "      <td>2022-01-18 08:23:52</td>\n",
       "      <td>2022-01-18 08:28:18</td>\n",
       "      <td>4488.09</td>\n",
       "      <td>4605.04</td>\n",
       "      <td>40.688489</td>\n",
       "      <td>-73.991160</td>\n",
       "      <td>40.692395</td>\n",
       "      <td>-73.993379</td>\n",
       "      <td>1</td>\n",
       "    </tr>\n",
       "    <tr>\n",
       "      <th>1</th>\n",
       "      <td>1</td>\n",
       "      <td>2022-01-21 09:03:22</td>\n",
       "      <td>2022-01-21 09:05:44</td>\n",
       "      <td>5616.08</td>\n",
       "      <td>5659.05</td>\n",
       "      <td>40.727243</td>\n",
       "      <td>-73.976831</td>\n",
       "      <td>40.727408</td>\n",
       "      <td>-73.981420</td>\n",
       "      <td>1</td>\n",
       "    </tr>\n",
       "    <tr>\n",
       "      <th>2</th>\n",
       "      <td>1</td>\n",
       "      <td>2022-01-22 14:28:32</td>\n",
       "      <td>2022-01-22 14:53:18</td>\n",
       "      <td>6140.05</td>\n",
       "      <td>6756.05</td>\n",
       "      <td>40.741740</td>\n",
       "      <td>-73.994156</td>\n",
       "      <td>40.762009</td>\n",
       "      <td>-73.996975</td>\n",
       "      <td>1</td>\n",
       "    </tr>\n",
       "    <tr>\n",
       "      <th>3</th>\n",
       "      <td>2</td>\n",
       "      <td>2022-01-19 14:49:47</td>\n",
       "      <td>2022-01-19 14:54:02</td>\n",
       "      <td>6850.01</td>\n",
       "      <td>6958.06</td>\n",
       "      <td>40.764175</td>\n",
       "      <td>-73.915840</td>\n",
       "      <td>40.768692</td>\n",
       "      <td>-73.924957</td>\n",
       "      <td>1</td>\n",
       "    </tr>\n",
       "    <tr>\n",
       "      <th>4</th>\n",
       "      <td>2</td>\n",
       "      <td>2022-01-16 14:36:06</td>\n",
       "      <td>2022-01-16 14:44:06</td>\n",
       "      <td>4362.04</td>\n",
       "      <td>4748.07</td>\n",
       "      <td>40.685376</td>\n",
       "      <td>-73.983021</td>\n",
       "      <td>40.696233</td>\n",
       "      <td>-73.991421</td>\n",
       "      <td>1</td>\n",
       "    </tr>\n",
       "  </tbody>\n",
       "</table>\n",
       "</div>"
      ],
      "text/plain": [
       "   rideable_type           started_at             ended_at start_station_id  \\\n",
       "0              1  2022-01-18 08:23:52  2022-01-18 08:28:18          4488.09   \n",
       "1              1  2022-01-21 09:03:22  2022-01-21 09:05:44          5616.08   \n",
       "2              1  2022-01-22 14:28:32  2022-01-22 14:53:18          6140.05   \n",
       "3              2  2022-01-19 14:49:47  2022-01-19 14:54:02          6850.01   \n",
       "4              2  2022-01-16 14:36:06  2022-01-16 14:44:06          4362.04   \n",
       "\n",
       "  end_station_id  start_lat  start_lng    end_lat    end_lng  member_casual  \n",
       "0        4605.04  40.688489 -73.991160  40.692395 -73.993379              1  \n",
       "1        5659.05  40.727243 -73.976831  40.727408 -73.981420              1  \n",
       "2        6756.05  40.741740 -73.994156  40.762009 -73.996975              1  \n",
       "3        6958.06  40.764175 -73.915840  40.768692 -73.924957              1  \n",
       "4        4748.07  40.685376 -73.983021  40.696233 -73.991421              1  "
      ]
     },
     "execution_count": 24,
     "metadata": {},
     "output_type": "execute_result"
    }
   ],
   "source": [
    "# append files\n",
    "\n",
    "merge_2022 = pd.concat([NY_Jan2022_df, NY_Jun2022_df, NJ_Jan2022_df, NJ_Jun2022_df])\n",
    "merge_2022.head()"
   ]
  },
  {
   "cell_type": "code",
   "execution_count": 25,
   "id": "a16f6c29",
   "metadata": {},
   "outputs": [],
   "source": [
    "merge_2022.to_csv('../Resources/Jan_vs_Jun 2022.csv', index=False)"
   ]
  },
  {
   "cell_type": "code",
   "execution_count": null,
   "id": "5ea271d1",
   "metadata": {},
   "outputs": [],
   "source": []
  },
  {
   "cell_type": "code",
   "execution_count": null,
   "id": "676e693b",
   "metadata": {},
   "outputs": [],
   "source": []
  }
 ],
 "metadata": {
  "kernelspec": {
   "display_name": "Python 3 (ipykernel)",
   "language": "python",
   "name": "python3"
  },
  "language_info": {
   "codemirror_mode": {
    "name": "ipython",
    "version": 3
   },
   "file_extension": ".py",
   "mimetype": "text/x-python",
   "name": "python",
   "nbconvert_exporter": "python",
   "pygments_lexer": "ipython3",
   "version": "3.9.7"
  }
 },
 "nbformat": 4,
 "nbformat_minor": 5
}
