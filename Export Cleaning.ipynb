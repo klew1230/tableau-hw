{
 "cells": [
  {
   "cell_type": "code",
   "execution_count": 1,
   "id": "38e4d482",
   "metadata": {},
   "outputs": [],
   "source": [
    "import pandas as pd\n",
    "import numpy as np"
   ]
  },
  {
   "cell_type": "code",
   "execution_count": 2,
   "id": "38a33638",
   "metadata": {},
   "outputs": [],
   "source": [
    "NY_Jan2022 = \"../Resources/Exports/202201-citibike-tripdata.csv\"\n",
    "NY_Jun2022 = \"../Resources/Exports/202206-citbike-tripdata.csv\"\n",
    "NJ_Jan2022 = \"../Resources/Exports/JC-202201-citibike-tripdata.csv\"\n",
    "NJ_Jun2022 = \"../Resources/Exports/JC-202206-citibike-tripdata.csv\""
   ]
  },
  {
   "cell_type": "code",
   "execution_count": 3,
   "id": "7679653c",
   "metadata": {},
   "outputs": [
    {
     "name": "stderr",
     "output_type": "stream",
     "text": [
      "C:\\Users\\klew1\\anaconda3\\lib\\site-packages\\IPython\\core\\interactiveshell.py:3444: DtypeWarning: Columns (5,7) have mixed types.Specify dtype option on import or set low_memory=False.\n",
      "  exec(code_obj, self.user_global_ns, self.user_ns)\n"
     ]
    }
   ],
   "source": [
    "NY_Jan2022_df = pd.read_csv(NY_Jan2022)\n",
    "NY_Jun2022_df = pd.read_csv(NY_Jun2022)\n",
    "NJ_Jan2022_df = pd.read_csv(NJ_Jan2022)\n",
    "NJ_Jun2022_df = pd.read_csv(NJ_Jun2022)"
   ]
  },
  {
   "cell_type": "code",
   "execution_count": 4,
   "id": "892a4df9",
   "metadata": {},
   "outputs": [
    {
     "data": {
      "text/html": [
       "<div>\n",
       "<style scoped>\n",
       "    .dataframe tbody tr th:only-of-type {\n",
       "        vertical-align: middle;\n",
       "    }\n",
       "\n",
       "    .dataframe tbody tr th {\n",
       "        vertical-align: top;\n",
       "    }\n",
       "\n",
       "    .dataframe thead th {\n",
       "        text-align: right;\n",
       "    }\n",
       "</style>\n",
       "<table border=\"1\" class=\"dataframe\">\n",
       "  <thead>\n",
       "    <tr style=\"text-align: right;\">\n",
       "      <th></th>\n",
       "      <th>ride_id</th>\n",
       "      <th>rideable_type</th>\n",
       "      <th>started_at</th>\n",
       "      <th>ended_at</th>\n",
       "      <th>start_station_name</th>\n",
       "      <th>start_station_id</th>\n",
       "      <th>end_station_name</th>\n",
       "      <th>end_station_id</th>\n",
       "      <th>start_lat</th>\n",
       "      <th>start_lng</th>\n",
       "      <th>end_lat</th>\n",
       "      <th>end_lng</th>\n",
       "      <th>member_casual</th>\n",
       "    </tr>\n",
       "  </thead>\n",
       "  <tbody>\n",
       "    <tr>\n",
       "      <th>0</th>\n",
       "      <td>55262E4365A955A2</td>\n",
       "      <td>classic_bike</td>\n",
       "      <td>2022-01-18 08:23:52</td>\n",
       "      <td>2022-01-18 08:28:18</td>\n",
       "      <td>Boerum Pl\\t&amp; Pacific St</td>\n",
       "      <td>4488.09</td>\n",
       "      <td>Clinton St &amp; Joralemon St</td>\n",
       "      <td>4605.04</td>\n",
       "      <td>40.688489</td>\n",
       "      <td>-73.991160</td>\n",
       "      <td>40.692395</td>\n",
       "      <td>-73.993379</td>\n",
       "      <td>member</td>\n",
       "    </tr>\n",
       "    <tr>\n",
       "      <th>1</th>\n",
       "      <td>D272F1B15D841EC0</td>\n",
       "      <td>classic_bike</td>\n",
       "      <td>2022-01-21 09:03:22</td>\n",
       "      <td>2022-01-21 09:05:44</td>\n",
       "      <td>E 12 St &amp; Ave C</td>\n",
       "      <td>5616.08</td>\n",
       "      <td>E 10 St &amp; Avenue A</td>\n",
       "      <td>5659.05</td>\n",
       "      <td>40.727243</td>\n",
       "      <td>-73.976831</td>\n",
       "      <td>40.727408</td>\n",
       "      <td>-73.981420</td>\n",
       "      <td>member</td>\n",
       "    </tr>\n",
       "    <tr>\n",
       "      <th>2</th>\n",
       "      <td>D1FCEF55EB4A807F</td>\n",
       "      <td>classic_bike</td>\n",
       "      <td>2022-01-22 14:28:32</td>\n",
       "      <td>2022-01-22 14:53:18</td>\n",
       "      <td>W 21 St &amp; 6 Ave</td>\n",
       "      <td>6140.05</td>\n",
       "      <td>W 44 St &amp; 11 Ave</td>\n",
       "      <td>6756.05</td>\n",
       "      <td>40.741740</td>\n",
       "      <td>-73.994156</td>\n",
       "      <td>40.762009</td>\n",
       "      <td>-73.996975</td>\n",
       "      <td>member</td>\n",
       "    </tr>\n",
       "    <tr>\n",
       "      <th>3</th>\n",
       "      <td>E9CBDC6A0162C068</td>\n",
       "      <td>electric_bike</td>\n",
       "      <td>2022-01-19 14:49:47</td>\n",
       "      <td>2022-01-19 14:54:02</td>\n",
       "      <td>38 St &amp; 30 Ave</td>\n",
       "      <td>6850.01</td>\n",
       "      <td>Crescent St &amp; 30 Ave</td>\n",
       "      <td>6958.06</td>\n",
       "      <td>40.764175</td>\n",
       "      <td>-73.915840</td>\n",
       "      <td>40.768692</td>\n",
       "      <td>-73.924957</td>\n",
       "      <td>member</td>\n",
       "    </tr>\n",
       "    <tr>\n",
       "      <th>4</th>\n",
       "      <td>2177A5B57326CE9B</td>\n",
       "      <td>electric_bike</td>\n",
       "      <td>2022-01-16 14:36:06</td>\n",
       "      <td>2022-01-16 14:44:06</td>\n",
       "      <td>Pacific St &amp; Nevins St</td>\n",
       "      <td>4362.04</td>\n",
       "      <td>Clinton St &amp; Tillary St</td>\n",
       "      <td>4748.07</td>\n",
       "      <td>40.685376</td>\n",
       "      <td>-73.983021</td>\n",
       "      <td>40.696233</td>\n",
       "      <td>-73.991421</td>\n",
       "      <td>member</td>\n",
       "    </tr>\n",
       "  </tbody>\n",
       "</table>\n",
       "</div>"
      ],
      "text/plain": [
       "            ride_id  rideable_type           started_at             ended_at  \\\n",
       "0  55262E4365A955A2   classic_bike  2022-01-18 08:23:52  2022-01-18 08:28:18   \n",
       "1  D272F1B15D841EC0   classic_bike  2022-01-21 09:03:22  2022-01-21 09:05:44   \n",
       "2  D1FCEF55EB4A807F   classic_bike  2022-01-22 14:28:32  2022-01-22 14:53:18   \n",
       "3  E9CBDC6A0162C068  electric_bike  2022-01-19 14:49:47  2022-01-19 14:54:02   \n",
       "4  2177A5B57326CE9B  electric_bike  2022-01-16 14:36:06  2022-01-16 14:44:06   \n",
       "\n",
       "        start_station_name start_station_id           end_station_name  \\\n",
       "0  Boerum Pl\\t& Pacific St          4488.09  Clinton St & Joralemon St   \n",
       "1          E 12 St & Ave C          5616.08         E 10 St & Avenue A   \n",
       "2          W 21 St & 6 Ave          6140.05           W 44 St & 11 Ave   \n",
       "3           38 St & 30 Ave          6850.01       Crescent St & 30 Ave   \n",
       "4   Pacific St & Nevins St          4362.04    Clinton St & Tillary St   \n",
       "\n",
       "  end_station_id  start_lat  start_lng    end_lat    end_lng member_casual  \n",
       "0        4605.04  40.688489 -73.991160  40.692395 -73.993379        member  \n",
       "1        5659.05  40.727243 -73.976831  40.727408 -73.981420        member  \n",
       "2        6756.05  40.741740 -73.994156  40.762009 -73.996975        member  \n",
       "3        6958.06  40.764175 -73.915840  40.768692 -73.924957        member  \n",
       "4        4748.07  40.685376 -73.983021  40.696233 -73.991421        member  "
      ]
     },
     "execution_count": 4,
     "metadata": {},
     "output_type": "execute_result"
    }
   ],
   "source": [
    "# append files\n",
    "\n",
    "merge_2022 = pd.concat([NY_Jan2022_df, NY_Jun2022_df, NJ_Jan2022_df, NJ_Jun2022_df])\n",
    "merge_2022.head()"
   ]
  },
  {
   "cell_type": "code",
   "execution_count": 5,
   "id": "6e5e8eb9",
   "metadata": {},
   "outputs": [
    {
     "data": {
      "text/plain": [
       "['ride_id',\n",
       " 'rideable_type',\n",
       " 'started_at',\n",
       " 'ended_at',\n",
       " 'start_station_name',\n",
       " 'start_station_id',\n",
       " 'end_station_name',\n",
       " 'end_station_id',\n",
       " 'start_lat',\n",
       " 'start_lng',\n",
       " 'end_lat',\n",
       " 'end_lng',\n",
       " 'member_casual']"
      ]
     },
     "execution_count": 5,
     "metadata": {},
     "output_type": "execute_result"
    }
   ],
   "source": [
    "list(merge_2022)"
   ]
  },
  {
   "cell_type": "code",
   "execution_count": 6,
   "id": "935cabce",
   "metadata": {},
   "outputs": [],
   "source": [
    "merge_2022['StartDate'] = pd.to_datetime(merge_2022['started_at']).dt.date\n",
    "merge_2022['StartTime'] = pd.to_datetime(merge_2022['started_at']).dt.time"
   ]
  },
  {
   "cell_type": "code",
   "execution_count": 7,
   "id": "9d40f3f6",
   "metadata": {},
   "outputs": [],
   "source": [
    "merge_2022['EndDate'] = pd.to_datetime(merge_2022['ended_at']).dt.date\n",
    "merge_2022['EndTime'] = pd.to_datetime(merge_2022['ended_at']).dt.time"
   ]
  },
  {
   "cell_type": "code",
   "execution_count": 8,
   "id": "a0a73a6e",
   "metadata": {},
   "outputs": [],
   "source": [
    "# drop columns\n",
    "merge_2022 = merge_2022.drop(columns=[\"ride_id\", \"start_station_name\", \"end_station_name\", \"started_at\", \"ended_at\"])"
   ]
  },
  {
   "cell_type": "code",
   "execution_count": 9,
   "id": "3665c041",
   "metadata": {},
   "outputs": [],
   "source": [
    "# rename data fields\n",
    "merge_2022['rideable_type'] = np.where(merge_2022['rideable_type']==\"classic_bike\",1,(np.where(merge_2022['rideable_type']==\"electric_bike\",2,0)))"
   ]
  },
  {
   "cell_type": "code",
   "execution_count": 10,
   "id": "5ff1d10a",
   "metadata": {},
   "outputs": [],
   "source": [
    "# dropping docked_bike = 0 because a docked_bike is a false start or total time <60 sec\n",
    "merge_2022.replace(0,np.NaN, inplace=True)"
   ]
  },
  {
   "cell_type": "code",
   "execution_count": 11,
   "id": "31e42cbe",
   "metadata": {},
   "outputs": [],
   "source": [
    "# rename data fields\n",
    "merge_2022['member_casual'] = np.where(merge_2022['member_casual']==\"member\",1,2)"
   ]
  },
  {
   "cell_type": "code",
   "execution_count": 12,
   "id": "beb23d26",
   "metadata": {},
   "outputs": [],
   "source": [
    "merge_2022.dropna(how='any', inplace=True)"
   ]
  },
  {
   "cell_type": "code",
   "execution_count": 13,
   "id": "dcfc7729",
   "metadata": {},
   "outputs": [
    {
     "data": {
      "text/plain": [
       "array([1, 2])"
      ]
     },
     "execution_count": 13,
     "metadata": {},
     "output_type": "execute_result"
    }
   ],
   "source": [
    "merge_2022['rideable_type'] = merge_2022['rideable_type'].astype(int)\n",
    "\n",
    "merge_2022.rideable_type.unique()"
   ]
  },
  {
   "cell_type": "code",
   "execution_count": 14,
   "id": "f9e26277",
   "metadata": {},
   "outputs": [
    {
     "data": {
      "text/html": [
       "<div>\n",
       "<style scoped>\n",
       "    .dataframe tbody tr th:only-of-type {\n",
       "        vertical-align: middle;\n",
       "    }\n",
       "\n",
       "    .dataframe tbody tr th {\n",
       "        vertical-align: top;\n",
       "    }\n",
       "\n",
       "    .dataframe thead th {\n",
       "        text-align: right;\n",
       "    }\n",
       "</style>\n",
       "<table border=\"1\" class=\"dataframe\">\n",
       "  <thead>\n",
       "    <tr style=\"text-align: right;\">\n",
       "      <th></th>\n",
       "      <th>rideable_type</th>\n",
       "      <th>start_station_id</th>\n",
       "      <th>end_station_id</th>\n",
       "      <th>start_lat</th>\n",
       "      <th>start_lng</th>\n",
       "      <th>end_lat</th>\n",
       "      <th>end_lng</th>\n",
       "      <th>member_casual</th>\n",
       "      <th>StartDate</th>\n",
       "      <th>StartTime</th>\n",
       "      <th>EndDate</th>\n",
       "      <th>EndTime</th>\n",
       "    </tr>\n",
       "  </thead>\n",
       "  <tbody>\n",
       "    <tr>\n",
       "      <th>0</th>\n",
       "      <td>1</td>\n",
       "      <td>4488.09</td>\n",
       "      <td>4605.04</td>\n",
       "      <td>40.688489</td>\n",
       "      <td>-73.991160</td>\n",
       "      <td>40.692395</td>\n",
       "      <td>-73.993379</td>\n",
       "      <td>1</td>\n",
       "      <td>2022-01-18</td>\n",
       "      <td>08:23:52</td>\n",
       "      <td>2022-01-18</td>\n",
       "      <td>08:28:18</td>\n",
       "    </tr>\n",
       "    <tr>\n",
       "      <th>1</th>\n",
       "      <td>1</td>\n",
       "      <td>5616.08</td>\n",
       "      <td>5659.05</td>\n",
       "      <td>40.727243</td>\n",
       "      <td>-73.976831</td>\n",
       "      <td>40.727408</td>\n",
       "      <td>-73.981420</td>\n",
       "      <td>1</td>\n",
       "      <td>2022-01-21</td>\n",
       "      <td>09:03:22</td>\n",
       "      <td>2022-01-21</td>\n",
       "      <td>09:05:44</td>\n",
       "    </tr>\n",
       "    <tr>\n",
       "      <th>2</th>\n",
       "      <td>1</td>\n",
       "      <td>6140.05</td>\n",
       "      <td>6756.05</td>\n",
       "      <td>40.741740</td>\n",
       "      <td>-73.994156</td>\n",
       "      <td>40.762009</td>\n",
       "      <td>-73.996975</td>\n",
       "      <td>1</td>\n",
       "      <td>2022-01-22</td>\n",
       "      <td>14:28:32</td>\n",
       "      <td>2022-01-22</td>\n",
       "      <td>14:53:18</td>\n",
       "    </tr>\n",
       "    <tr>\n",
       "      <th>3</th>\n",
       "      <td>2</td>\n",
       "      <td>6850.01</td>\n",
       "      <td>6958.06</td>\n",
       "      <td>40.764175</td>\n",
       "      <td>-73.915840</td>\n",
       "      <td>40.768692</td>\n",
       "      <td>-73.924957</td>\n",
       "      <td>1</td>\n",
       "      <td>2022-01-19</td>\n",
       "      <td>14:49:47</td>\n",
       "      <td>2022-01-19</td>\n",
       "      <td>14:54:02</td>\n",
       "    </tr>\n",
       "    <tr>\n",
       "      <th>4</th>\n",
       "      <td>2</td>\n",
       "      <td>4362.04</td>\n",
       "      <td>4748.07</td>\n",
       "      <td>40.685376</td>\n",
       "      <td>-73.983021</td>\n",
       "      <td>40.696233</td>\n",
       "      <td>-73.991421</td>\n",
       "      <td>1</td>\n",
       "      <td>2022-01-16</td>\n",
       "      <td>14:36:06</td>\n",
       "      <td>2022-01-16</td>\n",
       "      <td>14:44:06</td>\n",
       "    </tr>\n",
       "  </tbody>\n",
       "</table>\n",
       "</div>"
      ],
      "text/plain": [
       "   rideable_type start_station_id end_station_id  start_lat  start_lng  \\\n",
       "0              1          4488.09        4605.04  40.688489 -73.991160   \n",
       "1              1          5616.08        5659.05  40.727243 -73.976831   \n",
       "2              1          6140.05        6756.05  40.741740 -73.994156   \n",
       "3              2          6850.01        6958.06  40.764175 -73.915840   \n",
       "4              2          4362.04        4748.07  40.685376 -73.983021   \n",
       "\n",
       "     end_lat    end_lng  member_casual   StartDate StartTime     EndDate  \\\n",
       "0  40.692395 -73.993379              1  2022-01-18  08:23:52  2022-01-18   \n",
       "1  40.727408 -73.981420              1  2022-01-21  09:03:22  2022-01-21   \n",
       "2  40.762009 -73.996975              1  2022-01-22  14:28:32  2022-01-22   \n",
       "3  40.768692 -73.924957              1  2022-01-19  14:49:47  2022-01-19   \n",
       "4  40.696233 -73.991421              1  2022-01-16  14:36:06  2022-01-16   \n",
       "\n",
       "    EndTime  \n",
       "0  08:28:18  \n",
       "1  09:05:44  \n",
       "2  14:53:18  \n",
       "3  14:54:02  \n",
       "4  14:44:06  "
      ]
     },
     "execution_count": 14,
     "metadata": {},
     "output_type": "execute_result"
    }
   ],
   "source": [
    "merge_2022.head()"
   ]
  },
  {
   "cell_type": "code",
   "execution_count": 15,
   "id": "f34cdbc4",
   "metadata": {},
   "outputs": [
    {
     "data": {
      "text/plain": [
       "rideable_type         int32\n",
       "start_station_id     object\n",
       "end_station_id       object\n",
       "start_lat           float64\n",
       "start_lng           float64\n",
       "end_lat             float64\n",
       "end_lng             float64\n",
       "member_casual         int32\n",
       "StartDate            object\n",
       "StartTime            object\n",
       "EndDate              object\n",
       "EndTime              object\n",
       "dtype: object"
      ]
     },
     "execution_count": 15,
     "metadata": {},
     "output_type": "execute_result"
    }
   ],
   "source": [
    "merge_2022.dtypes"
   ]
  },
  {
   "cell_type": "code",
   "execution_count": 16,
   "id": "a16f6c29",
   "metadata": {},
   "outputs": [],
   "source": [
    "merge_2022.to_csv('../Resources/Jan_vs_Jun 2022.csv', index=False)"
   ]
  },
  {
   "cell_type": "code",
   "execution_count": null,
   "id": "676e693b",
   "metadata": {},
   "outputs": [],
   "source": []
  }
 ],
 "metadata": {
  "kernelspec": {
   "display_name": "Python 3 (ipykernel)",
   "language": "python",
   "name": "python3"
  },
  "language_info": {
   "codemirror_mode": {
    "name": "ipython",
    "version": 3
   },
   "file_extension": ".py",
   "mimetype": "text/x-python",
   "name": "python",
   "nbconvert_exporter": "python",
   "pygments_lexer": "ipython3",
   "version": "3.9.7"
  }
 },
 "nbformat": 4,
 "nbformat_minor": 5
}
